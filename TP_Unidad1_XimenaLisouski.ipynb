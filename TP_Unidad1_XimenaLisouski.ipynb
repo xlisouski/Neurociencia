{
 "cells": [
  {
   "cell_type": "markdown",
   "metadata": {},
   "source": [
    "# MÉTODOS Y TÉCNICAS EN NEUROCIENCIAS. \n"
   ]
  },
  {
   "cell_type": "code",
   "execution_count": null,
   "metadata": {},
   "outputs": [],
   "source": [
    "# Se importan las librerías con las que se trabajará en todo el TP. \n",
    "import pandas as pd\n",
    "import numpy as np\n",
    "import matplotlib as mpl\n",
    "import matplotlib.pyplot as plt\n",
    "import seaborn as sns\n",
    "import scipy\n",
    "import statsmodels.api as sm\n",
    "import stats\n",
    "from scipy import stats\n",
    "import statsmodels.api as sm\n",
    "from IPython.display import display, Markdown\n",
    "import warnings\n",
    "warnings.filterwarnings('ignore')"
   ]
  },
  {
   "cell_type": "markdown",
   "metadata": {},
   "source": [
    "## Unidad 1. \n",
    "## Tema Clase 1:\n",
    "**Estadística Descriptiva**\n",
    "\n",
    "Presentación de la información. Frecuencias. Frecuencia absoluta y frecuencia relativa. Gráficos de barras. Medidas descriptivas centrales y de dispersión. Gráficos de distribución de frecuencias y cajas.\n",
    "\n",
    "\n",
    "**Actividad práctica:**\n",
    "\n",
    "El objetivo de la actividad práctica es realizar un análisis exploratorio de una base de datos con el fin de describir tendencias centrales y dispersión de las variables, en el espacio uni y bivariado.\n",
    "\n",
    "**Planteamiento del problema**\n",
    "\n",
    "Un grupo de investigadores realizó un estudio con el fin de evaluar si existen diferencias en características estructurales del cerebro entre personas con esquizofrenia y desórdenes bipolares, en relación a los sujetos sanos. Asimismo, estudiaron los niveles de vitamina D en estos sujetos, ya que trabajos previos habían asociado los niveles de esta vitamina en personas con esquizofrenia y desórdenes depresivos con cambios estructurales, tales como una reducción de volumen cerebral. \n",
    "\n",
    "La muestra obtenida incluyó 83 pacientes y 101 sujetos sanos como grupo control. Se midió el nivel de vitamina D y se obtuvieron imágenes de resonancia magnética estructural (T1) de cada sujeto. A partir de las imágenes se calcularon el volumen de sustancia gris y blanca, el volumen cerebral total, el volumen de sustancia gris periférica y el volumen ventricular. Los datos fueron volcados a una base de datos anonimizada. \n",
    "\n",
    "La base de datos del estudio se encuentra en el archivo “Base_Brain_Vol.xlsx” y será usada para resolver el ejercicio. Las variables incluidas son:\n",
    " \n",
    "**Códigos de las variables en la base de datos:**\t\n",
    "\n",
    "* **Tratamiento (2 niveles):** Control, Paciente\t\t\n",
    "* **Diagnóstico (3 niveles):** Control, Esquizofrenia, Desorden_bipolar \n",
    "* **Genero (2 niveles):** Masculino M, Femenino F\n",
    "* **GMV:** Volumen de la sustancia gris\n",
    "* **WMV:** Volumen de la sustancia blanca\n",
    "* **WholeBrain:** Volumen del cerebro\n",
    "* **GM_Peripheral:** Volumen periférico de sustancia gris \n",
    "* **VentricularCSF:** Líquido cefalorraquídeo ventricular \n",
    "* **Vitamin_D_nmog:** Vitamina D suministrada\n",
    "\n",
    "**Ejercicio**\n",
    "\n",
    "Resolver las siguientes consignas \n",
    "\n",
    "**1)** Para cada una de las variables de la base, identificar el tipo de dato que describen.\n",
    "\n",
    "**2)** Describir la información contenida en cada variable, aplicando gráficos adecuados a cada tipo de dato. \n",
    "\n",
    "**3)** Para las variables que sea pertinente, obtenga las medidas de tendencia central y dispersión para toda la muestra y para cada grupo Tratamiento.\n",
    " \n",
    "\n"
   ]
  },
  {
   "cell_type": "markdown",
   "metadata": {},
   "source": [
    "### **Respuesta 1):**\n",
    "\n",
    "**Tratamiento:** Nominal\n",
    "\n",
    "**Diagnostico:** Nominal\n",
    "\n",
    "**Genero:** Nominal\n",
    "\n",
    "**GMV:** Contínua\n",
    "\n",
    "**WMV:** Contínua\n",
    "\n",
    "**WholeBrain:** Contínua\n",
    "\n",
    "**GM_Peripheral:** Contínua\n",
    "\n",
    "**VentricularCSV:** Contínua\n",
    "\n",
    "**Vitamin_D_nmog:** Discreta\n"
   ]
  },
  {
   "cell_type": "markdown",
   "metadata": {},
   "source": [
    "### **Respuesta 2):**"
   ]
  },
  {
   "cell_type": "code",
   "execution_count": null,
   "metadata": {},
   "outputs": [],
   "source": [
    "# Importo el dataset \n",
    "url = 'https://raw.githubusercontent.com/xlisouski/Neurociencia/main/Base_Brain_Vol.xlsx'\n",
    "df = pd.read_excel(url)\n",
    "print('Vista Preliminar del Set de Datos:')\n",
    "df.head()"
   ]
  },
  {
   "cell_type": "code",
   "execution_count": null,
   "metadata": {},
   "outputs": [],
   "source": [
    "# Descripción general de variables numéricas\n",
    "df.describe().round()"
   ]
  },
  {
   "cell_type": "markdown",
   "metadata": {},
   "source": [
    "#### Tratamiento \n",
    "Al ser una variable nominal con ciertas categorías posibles, se sugiere visualizarla a través de un gráfico de barras. "
   ]
  },
  {
   "cell_type": "code",
   "execution_count": null,
   "metadata": {},
   "outputs": [],
   "source": [
    "# Valores distintos:\n",
    "print('Valores Posibles: ') \n",
    "print(df['Tratamiento'].unique())"
   ]
  },
  {
   "cell_type": "code",
   "execution_count": null,
   "metadata": {},
   "outputs": [],
   "source": [
    "ax = sns.countplot(data = df,x = 'Tratamiento')\n",
    "\n",
    "for p in ax.patches:\n",
    "    ax.annotate(f'{p.get_height()}', (p.get_x() + p.get_width() / 2., p.get_height()), \n",
    "                ha='center', va='center', xytext=(0, 5), textcoords='offset points')\n",
    "plt.title('Distribución según Tratamiento')\n",
    "plt.xlabel('Tratamiento')\n",
    "plt.ylabel('Cantidad de Pacientes')\n",
    "plt.show()"
   ]
  },
  {
   "cell_type": "markdown",
   "metadata": {},
   "source": [
    "#### Diagnóstico \n",
    "Al ser una variable nominal con ciertas categorías posibles, se sugiere visualizarla a través de un gráfico de rueda. "
   ]
  },
  {
   "cell_type": "code",
   "execution_count": null,
   "metadata": {},
   "outputs": [],
   "source": [
    "# Valores distintos:\n",
    "print('Valores Posibles: ') \n",
    "print(df['Diagnostico'].unique())"
   ]
  },
  {
   "cell_type": "code",
   "execution_count": null,
   "metadata": {},
   "outputs": [],
   "source": [
    "plt.figure(figsize=(8, 8))\n",
    "category_counts = df['Diagnostico'].value_counts()\n",
    "plt.pie(category_counts, labels=category_counts.index, autopct='%1.1f%%', startangle=140, \n",
    "        wedgeprops=dict(width=0.5))\n",
    "plt.title('Distribución de Diagnóstico')\n",
    "plt.axis('equal')\n",
    "plt.show()"
   ]
  },
  {
   "cell_type": "markdown",
   "metadata": {},
   "source": [
    "#### Genero \n",
    "Al ser una variable nominal con ciertas categorías posibles, se sugiere visualizarla a través de un gráfico de barras. "
   ]
  },
  {
   "cell_type": "code",
   "execution_count": null,
   "metadata": {},
   "outputs": [],
   "source": [
    "# Valores distintos:\n",
    "print('Valores Posibles: ') \n",
    "print(df['Genero'].unique())"
   ]
  },
  {
   "cell_type": "code",
   "execution_count": null,
   "metadata": {},
   "outputs": [],
   "source": [
    "ax = sns.countplot(data = df,\n",
    "                   x = 'Genero',\n",
    "                   color = '#74D3A2')\n",
    "\n",
    "for p in ax.patches:\n",
    "    ax.annotate(f'{p.get_height()}', (p.get_x() + p.get_width() / 2., p.get_height()), \n",
    "                ha='center', va='center', xytext=(0, 5), textcoords='offset points')\n",
    "plt.title('Distribución según Genero')\n",
    "plt.xlabel('Genero')\n",
    "plt.ylabel('Cantidad de Pacientes')\n",
    "plt.show()"
   ]
  },
  {
   "cell_type": "markdown",
   "metadata": {},
   "source": [
    "### GMV\n",
    "Al ser una variable contínua, se propone un histograma marcando sus medidas de tendencia central y de posición. "
   ]
  },
  {
   "cell_type": "code",
   "execution_count": null,
   "metadata": {},
   "outputs": [],
   "source": [
    "plt.figure()\n",
    "sns.histplot(data = df,\n",
    "             x = 'GMV',\n",
    "             bins = 30,            \n",
    "             alpha = 0.2,\n",
    "             edgecolor = '#769ECF')\n",
    "\n",
    "plt.axvline(x = df['GMV'].mean(), \n",
    "            color = 'red', \n",
    "            linestyle = '-', \n",
    "            label = 'Promedio',\n",
    "            linewidth = 3)\n",
    "\n",
    "plt.axvline(x = df['GMV'].median(), \n",
    "            color = '#001D88', \n",
    "            linestyle = '-', \n",
    "            label = 'Mediana',\n",
    "            linewidth = 3)\n",
    "\n",
    "plt.axvline(x = df['GMV'].quantile(0.25), \n",
    "            color = 'black', \n",
    "            linestyle = '--', \n",
    "            label = 'Primer Cuartil',\n",
    "            linewidth = 2)\n",
    "\n",
    "plt.axvline(x = df['GMV'].quantile(0.75), \n",
    "            color = 'black', \n",
    "            linestyle = '--', \n",
    "            label = 'Tercer Cuartil',\n",
    "            linewidth = 2)\n",
    "\n",
    "plt.title('Distribución según GMV')\n",
    "plt.xlabel('GMV')\n",
    "plt.ylabel('Cantidad de Pacientes')\n",
    "plt.legend()\n",
    "plt.show()"
   ]
  },
  {
   "cell_type": "markdown",
   "metadata": {},
   "source": [
    "### WMV\n",
    "Al ser una variable contínua, se propone un boxplot. "
   ]
  },
  {
   "cell_type": "code",
   "execution_count": null,
   "metadata": {},
   "outputs": [],
   "source": [
    "plt.figure(figsize=(8, 6))\n",
    "sns.boxplot(y='WMV', data=df, palette='Set2')\n",
    "plt.title('Distribución de WMV')\n",
    "plt.show()"
   ]
  },
  {
   "cell_type": "markdown",
   "metadata": {},
   "source": [
    "### WholeBrain\n",
    "Al ser una variable contínua, se propone un histograma marcando sus medidas de tendencia central y de posición, agregamndo la curva de tendencia. "
   ]
  },
  {
   "cell_type": "code",
   "execution_count": null,
   "metadata": {},
   "outputs": [],
   "source": [
    "variable_target = df['WholeBrain']\n",
    "media = variable_target.mean()\n",
    "mediana = variable_target.median()\n",
    "primer_cuartil = variable_target.quantile(0.25)\n",
    "tercer_cuartil = variable_target.quantile(0.75)\n",
    "\n",
    "# Luego grafico\n",
    "plt.figure()\n",
    "# Histograma\n",
    "sns.histplot(data = df,\n",
    "             x = 'WholeBrain',\n",
    "             bins = 30,            \n",
    "             alpha = 0.25,\n",
    "             kde = True)\n",
    "# Agrego linea de promedio \n",
    "plt.axvline(x = media, \n",
    "            color = 'red', \n",
    "            linestyle = '-', \n",
    "            label = 'Promedio',\n",
    "            linewidth = 3)\n",
    "# Agrego linea de mediana \n",
    "plt.axvline(x = mediana, \n",
    "            color = '#11B613', \n",
    "            linestyle = '-', \n",
    "            label = 'Mediana',\n",
    "            linewidth = 3)\n",
    "# Agrego linea de primer cuartil \n",
    "plt.axvline(x = primer_cuartil, \n",
    "            color = 'black', \n",
    "            linestyle = '--', \n",
    "            label = 'Primer Cuartil',\n",
    "            linewidth = 2)\n",
    "# Agrego linea de tercer cuartil \n",
    "plt.axvline(x = tercer_cuartil, \n",
    "            color = 'black', \n",
    "            linestyle = '--', \n",
    "            label = 'Tercer Cuartil',\n",
    "            linewidth = 2)\n",
    "\n",
    "plt.legend()\n",
    "plt.ylabel('Cantidad de Pacientes')\n",
    "plt.title('Distribución de WholeBrain')"
   ]
  },
  {
   "cell_type": "markdown",
   "metadata": {},
   "source": [
    "### GM_Peripheral\n",
    "Al ser una variable contínua, se propone un histograma marcando sus medidas de tendencia central y de posición, agregamndo la curva de tendencia. "
   ]
  },
  {
   "cell_type": "code",
   "execution_count": null,
   "metadata": {},
   "outputs": [],
   "source": [
    "variable_target = df['GM_Peripheral']\n",
    "media = variable_target.mean()\n",
    "mediana = variable_target.median()\n",
    "primer_cuartil = variable_target.quantile(0.25)\n",
    "tercer_cuartil = variable_target.quantile(0.75)\n",
    "\n",
    "# Luego grafico\n",
    "plt.figure()\n",
    "# Histograma\n",
    "sns.histplot(data = df,\n",
    "             x = 'GM_Peripheral',\n",
    "             bins = 30,            \n",
    "             alpha = 0.25,\n",
    "             kde = True,\n",
    "             color = '#7941D4')\n",
    "# Agrego linea de promedio \n",
    "plt.axvline(x = media, \n",
    "            color = 'red', \n",
    "            linestyle = '-', \n",
    "            label = 'Promedio',\n",
    "            linewidth = 3)\n",
    "# Agrego linea de mediana \n",
    "plt.axvline(x = mediana, \n",
    "            color = '#11B613', \n",
    "            linestyle = '-', \n",
    "            label = 'Mediana',\n",
    "            linewidth = 3)\n",
    "# Agrego linea de primer cuartil \n",
    "plt.axvline(x = primer_cuartil, \n",
    "            color = 'black', \n",
    "            linestyle = '--', \n",
    "            label = 'Primer Cuartil',\n",
    "            linewidth = 2)\n",
    "# Agrego linea de tercer cuartil \n",
    "plt.axvline(x = tercer_cuartil, \n",
    "            color = 'black', \n",
    "            linestyle = '--', \n",
    "            label = 'Tercer Cuartil',\n",
    "            linewidth = 2)\n",
    "\n",
    "plt.legend()\n",
    "plt.xlabel('GM_Peripheral')\n",
    "plt.ylabel('Cantidad de Pacientes')\n",
    "plt.title('Distribución de GM_Peripheral')"
   ]
  },
  {
   "cell_type": "markdown",
   "metadata": {},
   "source": [
    "### VentricularCSF\n",
    "Al ser una variable contínua, se propone un boxplot. "
   ]
  },
  {
   "cell_type": "code",
   "execution_count": null,
   "metadata": {},
   "outputs": [],
   "source": [
    "plt.figure(figsize=(8, 6))\n",
    "sns.boxplot(y='VentricularCSF', data=df, color = '#ACD441')\n",
    "plt.title('Distribución de VentricularCSF')\n",
    "plt.show()"
   ]
  },
  {
   "cell_type": "markdown",
   "metadata": {},
   "source": [
    "### Vitamin_D_nmog\n",
    "Al ser una variable discreta, se propone un histograma marcando sus medidas de tendencia central y de posición, agregando la curva de tendencia. "
   ]
  },
  {
   "cell_type": "code",
   "execution_count": null,
   "metadata": {},
   "outputs": [],
   "source": [
    "variable_target = df['Vitamin_D_nmog']\n",
    "media = variable_target.mean()\n",
    "mediana = variable_target.median()\n",
    "primer_cuartil = variable_target.quantile(0.25)\n",
    "tercer_cuartil = variable_target.quantile(0.75)\n",
    "\n",
    "# Luego grafico\n",
    "plt.figure()\n",
    "# Histograma\n",
    "sns.histplot(data = df,\n",
    "             x = 'Vitamin_D_nmog',\n",
    "             bins = 30,            \n",
    "             alpha = 0.25,\n",
    "             kde = True,\n",
    "             color = '#D4419A')\n",
    "# Agrego linea de promedio \n",
    "plt.axvline(x = media, \n",
    "            color = 'red', \n",
    "            linestyle = '-', \n",
    "            label = 'Promedio',\n",
    "            linewidth = 3)\n",
    "# Agrego linea de mediana \n",
    "plt.axvline(x = mediana, \n",
    "            color = '#11B613', \n",
    "            linestyle = '-', \n",
    "            label = 'Mediana',\n",
    "            linewidth = 3)\n",
    "# Agrego linea de primer cuartil \n",
    "plt.axvline(x = primer_cuartil, \n",
    "            color = 'black', \n",
    "            linestyle = '--', \n",
    "            label = 'Primer Cuartil',\n",
    "            linewidth = 2)\n",
    "# Agrego linea de tercer cuartil \n",
    "plt.axvline(x = tercer_cuartil, \n",
    "            color = 'black', \n",
    "            linestyle = '--', \n",
    "            label = 'Tercer Cuartil',\n",
    "            linewidth = 2)\n",
    "\n",
    "plt.legend()\n",
    "plt.xlabel('Vitamin_D_nmog')\n",
    "plt.ylabel('Cantidad de Pacientes')\n",
    "plt.title('Distribución de Vitamin_D_nmog')"
   ]
  },
  {
   "cell_type": "markdown",
   "metadata": {},
   "source": [
    "### **Respuesta 3):**"
   ]
  },
  {
   "cell_type": "code",
   "execution_count": null,
   "metadata": {},
   "outputs": [],
   "source": [
    "def CalculaMetricas(variable):\n",
    "\n",
    "    media = variable.mean()\n",
    "    mediana = variable.median()\n",
    "    media_recortada = scipy.stats.trim_mean(variable,0.1)\n",
    "    varianza = variable.var()\n",
    "    desvio = variable.std()\n",
    "    primer_cuartil = variable.quantile(0.25)\n",
    "    tercer_cuartil = variable.quantile(0.75)\n",
    "    percentil_1 = variable.quantile(0.01)\n",
    "    percentil_99 = variable.quantile(0.99)\n",
    "    error_estandar = scipy.stats.sem(variable) \n",
    "    cv = scipy.stats.variation(variable)\n",
    "    asimetria = scipy.stats.skew(variable) \n",
    "    curtosis = scipy.stats.kurtosis(variable)    \n",
    "    \n",
    "    resultado = pd.DataFrame({        \n",
    "        \n",
    "        'Q1': [round(primer_cuartil, 0)], \n",
    "        'Mediana': [round(mediana, 0)],\n",
    "        'Media': [round(media, 2)],       \n",
    "        'Q3': [round(tercer_cuartil, 0)],\n",
    "        'DesvEst': [round(desvio, 2)],\n",
    "        'Rango_Int': [round(tercer_cuartil - primer_cuartil, 0)],\n",
    "        'CV': [round(cv, 2)],        \n",
    "        'Coef_Asime': [round(asimetria, 2)],\n",
    "        'Coef_Curtosis': [round(curtosis, 2)]\n",
    "    })\n",
    "\n",
    "    return resultado"
   ]
  },
  {
   "cell_type": "code",
   "execution_count": null,
   "metadata": {},
   "outputs": [],
   "source": [
    "variables_num = ['GMV', 'WMV', 'WholeBrain', 'GM_Peripheral', 'VentricularCSF','Vitamin_D_nmog']\n",
    "\n",
    "resumen_t = pd.DataFrame(columns=['Q1','Mediana', 'Media',   'Q3', 'DesvEst','Rango_Int','CV','Coef_Asime','Coef_Curtosis'])\n",
    "\n",
    "display(Markdown(f\"### Estadísticas Descriptivas de Variables Numéricas\"))\n",
    "\n",
    "for variable_num in variables_num:\n",
    "    \n",
    "    nueva_fila = CalculaMetricas(df[variable_num])\n",
    "    \n",
    "    resumen_t =  pd.concat([resumen_t, nueva_fila], axis=0, ignore_index=True)\n",
    "\n",
    "resumen_t"
   ]
  },
  {
   "cell_type": "code",
   "execution_count": null,
   "metadata": {},
   "outputs": [],
   "source": [
    "variables_num = ['GMV', 'WMV', 'WholeBrain', 'GM_Peripheral', 'VentricularCSF','Vitamin_D_nmog']\n",
    "\n",
    "display(Markdown(f\"### **Estadísticas según tratamiento**\"))\n",
    "    \n",
    "for variable_num in variables_num:\n",
    "\n",
    "    agrupaciones = df.groupby(['Tratamiento']).agg(\n",
    "        \n",
    "        Q1 =(variable_num, lambda x: x.quantile(0.25)),\n",
    "        Mediana = (variable_num, 'median'),\n",
    "        Media = (variable_num, 'mean'),\n",
    "        Q3=(variable_num, lambda x: x.quantile(0.75)),\n",
    "        Desvio = (variable_num, 'std'),\n",
    "        Rango_Int=(variable_num, lambda x: x.quantile(0.75) - x.quantile(0.25))\n",
    "        )\n",
    "    agrupaciones['CV'] = agrupaciones['Desvio'] / agrupaciones['Media']\n",
    "    display(Markdown(f\"### Estadísticas para la variable: **{variable_num}**\"))\n",
    "    display(agrupaciones.round(2))"
   ]
  },
  {
   "cell_type": "markdown",
   "metadata": {},
   "source": [
    "## Tema Clase 2:\n",
    "**Estadística Inferencial**\n",
    "\n",
    "Concepto de prueba estadística. Hipótesis nula y alternativa. Error tipo I y error tipo II. Nivel de significación. Estadístico de la prueba. Valor P. Pruebas estadísticas inferenciales. Prueba t-Student para una y dos medias.\n",
    "\n",
    "\n",
    "**Actividad práctica:**\n",
    "\n",
    "El objetivo de la actividad es realizar pruebas de comparación de medias, evaluar los supuestos de las mismas e interpretar los resultados obtenidos.\n",
    "\n",
    "\n",
    "**Ejercicio**\n",
    "\n",
    "Utilizando el mismo ejemplo de la Clase 1, resolver las siguientes consignas \n",
    "\n",
    "**1)** Con respecto a cada una de las variables que describen propiedades volumétricas del cerebro ¿considera que los grupos presentan diferencias observables de acuerdo al Tratamiento? Obtenga gráficos que sustenten su respuesta.\n",
    "\n",
    "**2)** Las variables que describen propiedades volumétricas del cerebro, ¿presentan diferencias entre sexos en los sujetos sanos o Control? ¿Se observa lo mismo en los pacientes? Elija una herramienta numérica y una grafica para apoyar su respuesta.\n",
    "\n",
    "**3)** Los datos de este estudio, ¿apoyan la hipótesis de que existen diferencias significativas en la composición de los tejidos cerebrales entre pacientes con desórdenes psiquiátricos y los sujetos sanos? ¿Que prueba estadística usaría para testear estas diferencias?\n",
    "\n",
    "En las respuestas incluya los gráficos y los resultados de los análisis estadísticos realizados. Se recomienda resumir la información en tablas para facilitar la presentación de los resultados.\n"
   ]
  },
  {
   "cell_type": "markdown",
   "metadata": {},
   "source": [
    "### **Respuesta 1)**"
   ]
  },
  {
   "cell_type": "code",
   "execution_count": null,
   "metadata": {},
   "outputs": [],
   "source": [
    "plt.figure(figsize=(8, 6))\n",
    "sns.boxplot(y='GMV', data=df, palette='Set2', hue = 'Tratamiento')\n",
    "plt.title('Distribución de GMV')\n",
    "plt.show()"
   ]
  },
  {
   "cell_type": "code",
   "execution_count": null,
   "metadata": {},
   "outputs": [],
   "source": [
    "plt.figure(figsize=(8, 6))\n",
    "sns.boxplot(y='WMV', data=df, palette='Set2', hue = 'Tratamiento')\n",
    "plt.title('Distribución de WMV')\n",
    "plt.show()"
   ]
  },
  {
   "cell_type": "code",
   "execution_count": null,
   "metadata": {},
   "outputs": [],
   "source": [
    "plt.figure(figsize=(8, 6))\n",
    "sns.boxplot(y='WholeBrain', data=df, palette='Set2', hue = 'Tratamiento')\n",
    "plt.title('Distribución de WholeBrain')\n",
    "plt.show()"
   ]
  },
  {
   "cell_type": "code",
   "execution_count": null,
   "metadata": {},
   "outputs": [],
   "source": [
    "plt.figure(figsize=(8, 6))\n",
    "sns.boxplot(y='GM_Peripheral', data=df, palette='Set2', hue = 'Tratamiento')\n",
    "plt.title('Distribución de GM_Peripheral')\n",
    "plt.show()"
   ]
  },
  {
   "cell_type": "code",
   "execution_count": null,
   "metadata": {},
   "outputs": [],
   "source": [
    "plt.figure(figsize=(8, 6))\n",
    "sns.boxplot(y='VentricularCSF', data=df, palette='Set2', hue = 'Tratamiento')\n",
    "plt.title('Distribución de VentricularCSF')\n",
    "plt.show()"
   ]
  },
  {
   "cell_type": "markdown",
   "metadata": {},
   "source": [
    "### **Respuesta 2)**"
   ]
  },
  {
   "cell_type": "markdown",
   "metadata": {},
   "source": [
    "### Gráficos\n",
    "Se utilizan boxplots para mostrar las diferencias de cada variable que describe propiedades volumétricas del cerebro respecto del tratamiento."
   ]
  },
  {
   "cell_type": "code",
   "execution_count": null,
   "metadata": {},
   "outputs": [],
   "source": [
    "plt.figure(figsize=(8, 6))\n",
    "sns.boxplot(y='GMV', x='Tratamiento', data=df, palette='Set2', hue = 'Genero')\n",
    "plt.title('Distribución de GMV')\n",
    "plt.show()"
   ]
  },
  {
   "cell_type": "code",
   "execution_count": null,
   "metadata": {},
   "outputs": [],
   "source": [
    "plt.figure(figsize=(8, 6))\n",
    "sns.boxplot(y='WMV', x='Tratamiento', data=df, palette='Set2', hue = 'Genero')\n",
    "plt.title('Distribución de WMV')\n",
    "plt.show()"
   ]
  },
  {
   "cell_type": "code",
   "execution_count": null,
   "metadata": {},
   "outputs": [],
   "source": [
    "plt.figure(figsize=(8, 6))\n",
    "sns.boxplot(y='WholeBrain', x='Tratamiento', data=df, palette='Set2', hue = 'Genero')\n",
    "plt.title('Distribución de WholeBrain')\n",
    "plt.show()"
   ]
  },
  {
   "cell_type": "code",
   "execution_count": null,
   "metadata": {},
   "outputs": [],
   "source": [
    "plt.figure(figsize=(8, 6))\n",
    "sns.boxplot(y='GM_Peripheral', x='Tratamiento', data=df, palette='Set2', hue = 'Genero')\n",
    "plt.title('Distribución de GM_Peripheral')\n",
    "plt.show()"
   ]
  },
  {
   "cell_type": "code",
   "execution_count": null,
   "metadata": {},
   "outputs": [],
   "source": [
    "plt.figure(figsize=(8, 6))\n",
    "sns.boxplot(y='VentricularCSF', x='Tratamiento', data=df, palette='Set2', hue = 'Genero')\n",
    "plt.title('Distribución de VentricularCSF')\n",
    "plt.show()"
   ]
  },
  {
   "cell_type": "markdown",
   "metadata": {},
   "source": [
    "### Soporte Numérico\n",
    "Se calculará la el primer cuartil, la media, la mediana, el tercer cuartil, el desvío estándar y el coeficiente de variación para cada sub-grupo de análisis, con el objetivo de mostrar las diferencias de cada variable que describe propiedades volumétricas del cerebro respecto del tratamiento."
   ]
  },
  {
   "cell_type": "code",
   "execution_count": null,
   "metadata": {},
   "outputs": [],
   "source": [
    "variables_num = ['GMV', 'WMV', 'WholeBrain', 'GM_Peripheral', 'VentricularCSF','Vitamin_D_nmog']\n",
    "\n",
    "for variable_num in variables_num:\n",
    "\n",
    "    agrupaciones = df.groupby(['Tratamiento','Genero']).agg(\n",
    "        \n",
    "        Q1 =(variable_num, lambda x: x.quantile(0.25)),\n",
    "        Mediana = (variable_num, 'median'),\n",
    "        Promedio = (variable_num, 'mean'),\n",
    "        Q3=(variable_num, lambda x: x.quantile(0.75)),\n",
    "        Desvio = (variable_num, 'std')\n",
    "        )\n",
    "    agrupaciones['CV'] = agrupaciones['Desvio'] / agrupaciones['Promedio']\n",
    "    display(Markdown(f\"### Estadísticas para la variable: **{variable_num}**\"))\n",
    "    display(agrupaciones.round(2))"
   ]
  },
  {
   "cell_type": "markdown",
   "metadata": {},
   "source": [
    "### **Respuesta 3)**\n",
    "Se utilizarán pruebas de diferencias de medias T para comparar si el valor medio de cada variable que compone los tejidos cerebrales cuenta con diferencias en los distintos grupos tratados. "
   ]
  },
  {
   "cell_type": "code",
   "execution_count": null,
   "metadata": {},
   "outputs": [],
   "source": [
    "def prueba_t(col_cat, col_num, alpha, data_frame):\n",
    "\n",
    "    categorias = data_frame[col_cat].unique()\n",
    "    \n",
    "    muestra1 = data_frame.loc[data_frame[col_cat] == categorias[0],col_num].values\n",
    "    muestra2 = data_frame.loc[data_frame[col_cat] == categorias[1],col_num].values\n",
    "\n",
    "    # Realiza la prueba t para muestras independientes\n",
    "    t_statistic, p_value = stats.ttest_ind(muestra1, muestra2)\n",
    "\n",
    "    # Interpreta el valor p\n",
    "    alpha = alpha\n",
    "    if p_value < alpha:\n",
    "        rta = \"Rechazamos H0\"\n",
    "        interp = \"Hay diferencia significativa entre medias.\"\n",
    "    else:\n",
    "        rta = \"No rechazamos H0\"\n",
    "        interp = \"No hay diferencia significativa entre medias.\"\n",
    "    return p_value, t_statistic, rta, interp"
   ]
  },
  {
   "cell_type": "code",
   "execution_count": null,
   "metadata": {},
   "outputs": [],
   "source": [
    "variables_num = ['GMV', 'WMV', 'WholeBrain', 'GM_Peripheral', 'VentricularCSF','Vitamin_D_nmog']\n",
    "resumen_t = pd.DataFrame(columns=['Variable','P_Valor','Estadistico','Decision','Interpretacion'])\n",
    "\n",
    "display(Markdown(f\"### Pruebas T para validar diferencias de medias según Diagnóstico\"))\n",
    "\n",
    "for variable_num in variables_num:\n",
    "\n",
    "    t_prueba = prueba_t('Diagnostico', variable_num, 0.05, df)\n",
    "    \n",
    "    nueva_fila = pd.DataFrame({\n",
    "    'Variable': [variable_num],\n",
    "    'P_Valor': [round(t_prueba[0],4)],\n",
    "    'Estadistico': [round(t_prueba[1],2)],\n",
    "    'Decision': [t_prueba[2]],\n",
    "    'Interpretacion': [t_prueba[3]]\n",
    "    })    \n",
    "    \n",
    "    resumen_t =  pd.concat([resumen_t, nueva_fila], axis=0, ignore_index=True)\n",
    "\n",
    "resumen_t"
   ]
  },
  {
   "cell_type": "code",
   "execution_count": null,
   "metadata": {},
   "outputs": [],
   "source": [
    "variables_num = ['GMV', 'WMV', 'WholeBrain', 'GM_Peripheral', 'VentricularCSF','Vitamin_D_nmog']\n",
    "resumen_t = pd.DataFrame(columns=['Variable','P_Valor','Estadistico','Decision','Interpretacion'])\n",
    "\n",
    "display(Markdown(f\"### Pruebas T para validar diferencias de medias según Tratamiento\"))\n",
    "\n",
    "for variable_num in variables_num:\n",
    "\n",
    "    t_prueba = prueba_t('Tratamiento', variable_num, 0.05, df)\n",
    "    \n",
    "    nueva_fila = pd.DataFrame({\n",
    "    'Variable': [variable_num],\n",
    "    'P_Valor': [round(t_prueba[0],4)],\n",
    "    'Estadistico': [round(t_prueba[1],2)],\n",
    "    'Decision': [t_prueba[2]],\n",
    "    'Interpretacion': [t_prueba[3]]\n",
    "    })    \n",
    "    \n",
    "    resumen_t =  pd.concat([resumen_t, nueva_fila], axis=0, ignore_index=True)\n",
    "\n",
    "resumen_t"
   ]
  },
  {
   "cell_type": "markdown",
   "metadata": {},
   "source": [
    "## Tema Clase 3:\n",
    "## Estadística Inferencial\n",
    "**Pruebas de dependencia y diseños experimentales I. Prueba ANOVA**\n",
    "\n",
    "**Actividad práctica:**\n",
    "El objetivo de la actividad es adquirir los elementos básicos para describir y analizar la relación entre dos variables cuantitativas, una discreta y la otra continua.\n",
    "\n",
    "**Ejercicio**\n",
    "Analice la base de datos provista para resolver las siguientes preguntas:  \n",
    "\n",
    "**1)** Grafique las diferencias de medias de cada variable cuantitativa entre los grupos incluidos en la variable Diagnósticos. Analice también las diferencias de medidas entre grupos que combinen la variable Género y Diagnóstico (estos grupos deben ser creados para el ejercicio), ¿qué diferencias puede identificar?\n",
    "\n",
    "**2)** Los datos de este estudio, ¿apoyan la hipótesis de que existen diferencias en la composición de los tejidos cerebrales entre controles y pacientes con diferentes diagnósticos?\n",
    "\n",
    "En las respuestas incluya los gráficos y los resultados de los análisis estadísticos realizados. Se recomienda resumir la información en tablas para facilitar la presentación de los resultados.\n"
   ]
  },
  {
   "cell_type": "markdown",
   "metadata": {},
   "source": [
    "### **Respuesta 1)**"
   ]
  },
  {
   "cell_type": "code",
   "execution_count": null,
   "metadata": {},
   "outputs": [],
   "source": [
    "variables_num = ['GMV', 'WMV', 'WholeBrain', 'GM_Peripheral', 'VentricularCSF']\n",
    "\n",
    "for variable_num in variables_num:\n",
    "    plt.figure()\n",
    "    sns.barplot(data = df,\n",
    "                x = 'Diagnostico',\n",
    "                y = variable_num)\n",
    "    plt.title('Promedio de '+variable_num+ ' según Diagnóstico')\n",
    "    plt.xlabel('Promedio de '+variable_num)\n",
    "    plt.show()"
   ]
  },
  {
   "cell_type": "code",
   "execution_count": null,
   "metadata": {},
   "outputs": [],
   "source": [
    "variables_num = ['GMV', 'WMV', 'WholeBrain', 'GM_Peripheral', 'VentricularCSF']\n",
    "\n",
    "for variable_num in variables_num:\n",
    "    plt.figure()\n",
    "    sns.barplot(data = df,\n",
    "                x = 'Diagnostico',\n",
    "                y = variable_num,\n",
    "                hue = 'Genero')\n",
    "    plt.title('Promedios según Diagnóstico y Género')\n",
    "    plt.xlabel('Promedio de '+variable_num)\n",
    "    plt.show()"
   ]
  },
  {
   "cell_type": "markdown",
   "metadata": {},
   "source": [
    "### **Respuesta 2)**"
   ]
  },
  {
   "cell_type": "code",
   "execution_count": null,
   "metadata": {},
   "outputs": [],
   "source": [
    "variables_num = ['GMV', 'WMV', 'WholeBrain', 'GM_Peripheral', 'VentricularCSF']\n",
    "resumen_t = pd.DataFrame(columns=['Variable','P_Valor','Estadistico','Decision','Interpretacion'])\n",
    "\n",
    "display(Markdown(f\"### Pruebas ANOVA para validar diferencias de medias según Diagnóstico\"))\n",
    "\n",
    "for variable_num in variables_num:\n",
    "\n",
    "    grouped = df.groupby(['Diagnostico'])[variable_num]\n",
    "    group_data = [group.values for name, group in grouped]\n",
    "    f_statistic, p_value = stats.f_oneway(*group_data)\n",
    "    \n",
    "    alpha = 0.05\n",
    "    if p_value < alpha:\n",
    "        rta = \"Rechazamos H0\"\n",
    "        interp = \"Hay diferencia significativa entre medias.\"\n",
    "    else:\n",
    "        rta = \"No rechazamos H0\"\n",
    "        interp = \"No hay diferencia significativa entre medias.\"\n",
    "    \n",
    "    nueva_fila = pd.DataFrame({\n",
    "    'Variable': [variable_num],\n",
    "    'P_Valor': [round(p_value,4)],\n",
    "    'Estadistico': [round(f_statistic,2)],\n",
    "    'Decision': [rta],\n",
    "    'Interpretacion': [interp]\n",
    "    })    \n",
    "    \n",
    "    resumen_t =  pd.concat([resumen_t, nueva_fila], axis=0, ignore_index=True)\n",
    "\n",
    "resumen_t"
   ]
  },
  {
   "cell_type": "code",
   "execution_count": null,
   "metadata": {},
   "outputs": [],
   "source": [
    "from statsmodels.stats.multicomp import pairwise_tukeyhsd\n",
    "tukey = pairwise_tukeyhsd(endog=df['VentricularCSF'], groups=df['Diagnostico'], alpha=0.05)\n",
    "print(tukey)"
   ]
  },
  {
   "cell_type": "markdown",
   "metadata": {},
   "source": [
    "## Tema Clase 4\n",
    "## Estadística Inferencial\n",
    "**Pruebas de dependencia y diseños experimentales II. Chi-cuadrado. Regresión**\n",
    "\n",
    "**Actividad práctica:**\n",
    "El objetivo de la actividad es adquirir los elementos básicos para describir y analizar la relación entre dos variables cuantitativas continuas o discretas.\n",
    "\n",
    "**1)** Las variables que describen distintas características estructurales del cerebro, ¿están asociadas o varían de forma independiente? Para responder esta pregunta utilice tanto métodos descriptivos gráficos como análisis que permitan estimar la magnitud de asociación entre variables.\n",
    "\n",
    "**2)** El volumen cerebral total, ¿es un buen predictor del contenido de materia gris, blanca y el volumen del liquido cerebroespinal? Justificar la respuesta a partir de los resultados obtenidos.\n",
    "\n",
    "**3)** ¿Qué ecuación utilizaría para estimar el volumen de sustancia gris a partir del volumen cerebral total? En la ecuación incluya los valores específicos para el estudio usado en este trabajo práctico.\n",
    "\n",
    "**4)** Existen diferencias entre sexos en relación a los diagnósticos de Esquizofrenia y Desorden bipolar?\n"
   ]
  },
  {
   "cell_type": "markdown",
   "metadata": {},
   "source": [
    "### **Respuesta 1)**"
   ]
  },
  {
   "cell_type": "code",
   "execution_count": null,
   "metadata": {},
   "outputs": [],
   "source": [
    "matriz_correlacion = df[variables_num].corr(method='pearson')\n",
    "sns.heatmap(abs(matriz_correlacion),\n",
    "                linewidths = 0.3,\n",
    "                annot = True,\n",
    "                cmap = 'Reds')\n",
    "plt.yticks(rotation = 0)\n",
    "plt.xticks(rotation = 90)\n",
    "plt.title('Matriz de Correlación de Variables Numéricas')\n",
    "plt.show()"
   ]
  },
  {
   "cell_type": "code",
   "execution_count": null,
   "metadata": {},
   "outputs": [],
   "source": [
    "# Crear el Pairplot \n",
    "display(Markdown(f\"### Relación entre Variables Numéricas\"))\n",
    "sns.pairplot(df[variables_num])\n",
    "plt.show()"
   ]
  },
  {
   "cell_type": "markdown",
   "metadata": {},
   "source": [
    "### **Respuesta 2)**"
   ]
  },
  {
   "cell_type": "code",
   "execution_count": null,
   "metadata": {},
   "outputs": [],
   "source": [
    "variables_num = ['GMV', 'WMV', 'GM_Peripheral', 'VentricularCSF']\n",
    "\n",
    "for variable in variables_num:\n",
    "\n",
    "    display(Markdown(f\"### Predicción de Y: **{variable}** en función de X: **WholeBrain**\"))\n",
    "\n",
    "    X = df[['WholeBrain']]\n",
    "    Y = df[variable]\n",
    "\n",
    "    # Agregar una constante (intercepto) al modelo\n",
    "    X = sm.add_constant(X)\n",
    "\n",
    "    # Ajustar el modelo\n",
    "    model = sm.OLS(Y, X).fit()\n",
    "\n",
    "    # Graficamente:\n",
    "    df['y_estimado'] = model.predict(X)\n",
    "\n",
    "    g1 = plt.figure()\n",
    "    sns.scatterplot(data = df,\n",
    "                    x = 'WholeBrain',\n",
    "                    y = variable,                \n",
    "                    label = 'Real', \n",
    "                    color = '#34EB63',\n",
    "                    alpha = 0.75)\n",
    "    sns.lineplot(data = df, \n",
    "                    x = 'WholeBrain', \n",
    "                    y = 'y_estimado', \n",
    "                    label = 'Predicción', \n",
    "                    color = 'black')\n",
    "    plt.xlabel('WholeBrain')\n",
    "    plt.ylabel(variable)\n",
    "    plt.title('Datos Reales vs Estimación - R2: '+ str(round(model.rsquared,2)))\n",
    "    plt.show()\n",
    "\n",
    "    # Imprimir el resumen del modelo\n",
    "    print(model.summary())\n"
   ]
  },
  {
   "cell_type": "markdown",
   "metadata": {},
   "source": [
    "### **Respuesta 3)**"
   ]
  },
  {
   "cell_type": "code",
   "execution_count": null,
   "metadata": {},
   "outputs": [],
   "source": [
    "variable = 'GMV'\n",
    "\n",
    "display(Markdown(f\"### Predicción de Y: **{variable}** en función de X: **WholeBrain**\"))\n",
    "\n",
    "X = df[['WholeBrain']]\n",
    "Y = df[variable]\n",
    "\n",
    "X = sm.add_constant(X)\n",
    "\n",
    "model = sm.OLS(Y, X).fit()\n",
    "\n",
    "ecuacion = ' Y =  ' + str(round(model.params[0],2)) + ' + ' + str(round(model.params[1],2)) + ' * X'\n",
    "\n",
    "display(Markdown(f\"### {ecuacion}\"))"
   ]
  },
  {
   "cell_type": "markdown",
   "metadata": {},
   "source": [
    "### **Respuesta 4)**"
   ]
  },
  {
   "cell_type": "code",
   "execution_count": null,
   "metadata": {},
   "outputs": [],
   "source": [
    "tabla_contingencia = pd.crosstab(df['Genero'], df['Diagnostico'])\n",
    "\n",
    "# Realizar el test chi-cuadrado\n",
    "chi2_stat, p_value, dof, expected = stats.chi2_contingency(tabla_contingencia)\n",
    "tabla_expected = pd.DataFrame(expected, index=tabla_contingencia.index, columns=tabla_contingencia.columns)\n",
    "\n",
    "# Imprimir los resultados\n",
    "display(Markdown(f'**Estadístico Chi-cuadrado:** {round(chi2_stat,4)}'))\n",
    "display(Markdown(f'**P - Valor:** {round(p_value,4)}'))\n",
    "display(Markdown(f'**Degrees of Freedom (dof):** {dof}'))\n",
    "display(Markdown(f'''**Interpretación:** \n",
    "Dado que el valor p es mayor que el nivel de significancia de 0.05, no existe suficiente evidencia para rechazar la hipótesis nula.\n",
    "No hay evidencia estadísticamente significativa para afirmar que existe una asociación entre el sexo y el diagnóstico.'''))\n",
    "\n",
    "display(Markdown(f\"### Frecuencias Reales:\"))\n",
    "display(pd.DataFrame(tabla_contingencia))\n",
    "\n",
    "display(Markdown(f\"### Frecuencias Esperadas:\"))\n",
    "display(pd.DataFrame(round(tabla_expected,0)))"
   ]
  }
 ],
 "metadata": {
  "kernelspec": {
   "display_name": "Python 3",
   "language": "python",
   "name": "python3"
  },
  "language_info": {
   "codemirror_mode": {
    "name": "ipython",
    "version": 3
   },
   "file_extension": ".py",
   "mimetype": "text/x-python",
   "name": "python",
   "nbconvert_exporter": "python",
   "pygments_lexer": "ipython3",
   "version": "3.11.9"
  }
 },
 "nbformat": 4,
 "nbformat_minor": 2
}
